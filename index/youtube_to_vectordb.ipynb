{
 "cells": [
  {
   "cell_type": "code",
   "execution_count": 1,
   "id": "9ee51eaf",
   "metadata": {},
   "outputs": [
    {
     "name": "stderr",
     "output_type": "stream",
     "text": [
      "/Users/cueball/Documents/langchain/env/lib/python3.11/site-packages/pinecone/index.py:4: TqdmExperimentalWarning: Using `tqdm.autonotebook.tqdm` in notebook mode. Use `tqdm.tqdm` instead to force console mode (e.g. in jupyter console)\n",
      "  from tqdm.autonotebook import tqdm\n"
     ]
    }
   ],
   "source": [
    "# for fetching list of youtube videos\n",
    "from youtubesearchpython import *\n",
    "import pandas as pd\n",
    "\n",
    "# for downloading audio and extracting text\n",
    "from langchain.document_loaders.generic import GenericLoader\n",
    "from langchain.document_loaders.parsers import OpenAIWhisperParser\n",
    "from langchain.document_loaders.blob_loaders.youtube_audio import YoutubeAudioLoader\n",
    "\n",
    "# for saving embedding to vectordb\n",
    "import os\n",
    "import math\n",
    "import pinecone\n",
    "import pandas as pd\n",
    "from langchain.chains import RetrievalQA\n",
    "from langchain.vectorstores import Pinecone\n",
    "from langchain.chat_models import ChatOpenAI\n",
    "from langchain.embeddings import OpenAIEmbeddings\n",
    "from langchain.text_splitter import RecursiveCharacterTextSplitter\n",
    "\n",
    "import openai\n",
    "import requests\n",
    "\n",
    "import unicodedata\n",
    "import difflib # for fuzzy string matching"
   ]
  },
  {
   "cell_type": "code",
   "execution_count": 2,
   "id": "d5adcabf",
   "metadata": {},
   "outputs": [
    {
     "name": "stdout",
     "output_type": "stream",
     "text": [
      "Getting more videos...\n",
      "Videos retrieved: 200\n",
      "Getting more videos...\n",
      "Videos retrieved: 300\n",
      "Getting more videos...\n",
      "Videos retrieved: 400\n",
      "Getting more videos...\n",
      "Videos retrieved: 500\n",
      "Getting more videos...\n",
      "Videos retrieved: 599\n",
      "Getting more videos...\n",
      "Videos retrieved: 699\n",
      "Getting more videos...\n",
      "Videos retrieved: 764\n"
     ]
    }
   ],
   "source": [
    "# channels = ChannelsSearch('JacksonGalaxy')\n",
    "# print(channels.result())\n",
    "channel_id = \"UCheL-cUqfzUB8dfM_rFOfDQ\" #pull out id from channels above\n",
    "playlist = Playlist(playlist_from_channel_id(channel_id))\n",
    "\n",
    "while playlist.hasMoreVideos:\n",
    "    print('Getting more videos...')\n",
    "    playlist.getNextVideos()\n",
    "    print(f'Videos retrieved: {len(playlist.videos)}')"
   ]
  },
  {
   "cell_type": "code",
   "execution_count": 3,
   "id": "9a1205ea",
   "metadata": {},
   "outputs": [],
   "source": [
    "stor_metadata = pd.DataFrame()\n",
    "\n",
    "# Excluding 'shorts' based on duration of videos\n",
    "import time\n",
    "time_format = '%H:%M:%S'\n",
    "one_min = time.strptime('00:01:00', time_format)\n",
    "\n",
    "count = 1\n",
    "for v in playlist.videos:\n",
    "    duration_str = v['duration']\n",
    "    if len(duration_str) < 6:\n",
    "        duration_str = '0:' + duration_str\n",
    "    duration = time.strptime(duration_str, time_format)\n",
    "\n",
    "    if duration > one_min:\n",
    "        stor_metadata.loc[v['title'],'title']=v['title']\n",
    "        stor_metadata.loc[v['title'],'link']=v['link']\n",
    "        stor_metadata.loc[v['title'],'img']=v['thumbnails'][3]['url']\n",
    "        stor_metadata.loc[v['title'],'id']=int(count)\n",
    "        count = count + 1"
   ]
  },
  {
   "cell_type": "code",
   "execution_count": 4,
   "id": "e471b0fd",
   "metadata": {},
   "outputs": [
    {
     "name": "stdout",
     "output_type": "stream",
     "text": [
      "385\n",
      "380\n",
      "385\n"
     ]
    },
    {
     "data": {
      "text/html": [
       "<div>\n",
       "<style scoped>\n",
       "    .dataframe tbody tr th:only-of-type {\n",
       "        vertical-align: middle;\n",
       "    }\n",
       "\n",
       "    .dataframe tbody tr th {\n",
       "        vertical-align: top;\n",
       "    }\n",
       "\n",
       "    .dataframe thead th {\n",
       "        text-align: right;\n",
       "    }\n",
       "</style>\n",
       "<table border=\"1\" class=\"dataframe\">\n",
       "  <thead>\n",
       "    <tr style=\"text-align: right;\">\n",
       "      <th></th>\n",
       "      <th>title</th>\n",
       "      <th>link</th>\n",
       "      <th>img</th>\n",
       "      <th>id</th>\n",
       "    </tr>\n",
       "  </thead>\n",
       "  <tbody>\n",
       "    <tr>\n",
       "      <th>What's Your Cat's Story?</th>\n",
       "      <td>What's Your Cat's Story?</td>\n",
       "      <td>https://www.youtube.com/watch?v=iMSQg8eEXHw&amp;li...</td>\n",
       "      <td>https://i.ytimg.com/vi/iMSQg8eEXHw/hqdefault.j...</td>\n",
       "      <td>382.0</td>\n",
       "    </tr>\n",
       "    <tr>\n",
       "      <th>Meet Jackson Galaxy's Cats (and dog)</th>\n",
       "      <td>Meet Jackson Galaxy's Cats (and dog)</td>\n",
       "      <td>https://www.youtube.com/watch?v=gYoRNwIMAV8&amp;li...</td>\n",
       "      <td>https://i.ytimg.com/vi/gYoRNwIMAV8/hqdefault.j...</td>\n",
       "      <td>383.0</td>\n",
       "    </tr>\n",
       "    <tr>\n",
       "      <th>The Story of Mojo The Cat</th>\n",
       "      <td>The Story of Mojo The Cat</td>\n",
       "      <td>https://www.youtube.com/watch?v=BjmqAazOdow&amp;li...</td>\n",
       "      <td>https://i.ytimg.com/vi/BjmqAazOdow/hqdefault.j...</td>\n",
       "      <td>384.0</td>\n",
       "    </tr>\n",
       "    <tr>\n",
       "      <th>How To Make Your Cat Not Afraid of Strangers</th>\n",
       "      <td>How To Make Your Cat Not Afraid of Strangers</td>\n",
       "      <td>https://www.youtube.com/watch?v=ihPERHMKQeg&amp;li...</td>\n",
       "      <td>https://i.ytimg.com/vi/ihPERHMKQeg/hqdefault.j...</td>\n",
       "      <td>385.0</td>\n",
       "    </tr>\n",
       "    <tr>\n",
       "      <th>The Politics of Litter</th>\n",
       "      <td>The Politics of Litter</td>\n",
       "      <td>https://www.youtube.com/watch?v=34cHfvYOYS0&amp;li...</td>\n",
       "      <td>https://i.ytimg.com/vi/34cHfvYOYS0/hqdefault.j...</td>\n",
       "      <td>386.0</td>\n",
       "    </tr>\n",
       "  </tbody>\n",
       "</table>\n",
       "</div>"
      ],
      "text/plain": [
       "                                                                                     title  \\\n",
       "What's Your Cat's Story?                                          What's Your Cat's Story?   \n",
       "Meet Jackson Galaxy's Cats (and dog)                  Meet Jackson Galaxy's Cats (and dog)   \n",
       "The Story of Mojo The Cat                                        The Story of Mojo The Cat   \n",
       "How To Make Your Cat Not Afraid of Strangers  How To Make Your Cat Not Afraid of Strangers   \n",
       "The Politics of Litter                                              The Politics of Litter   \n",
       "\n",
       "                                                                                           link  \\\n",
       "What's Your Cat's Story?                      https://www.youtube.com/watch?v=iMSQg8eEXHw&li...   \n",
       "Meet Jackson Galaxy's Cats (and dog)          https://www.youtube.com/watch?v=gYoRNwIMAV8&li...   \n",
       "The Story of Mojo The Cat                     https://www.youtube.com/watch?v=BjmqAazOdow&li...   \n",
       "How To Make Your Cat Not Afraid of Strangers  https://www.youtube.com/watch?v=ihPERHMKQeg&li...   \n",
       "The Politics of Litter                        https://www.youtube.com/watch?v=34cHfvYOYS0&li...   \n",
       "\n",
       "                                                                                            img  \\\n",
       "What's Your Cat's Story?                      https://i.ytimg.com/vi/iMSQg8eEXHw/hqdefault.j...   \n",
       "Meet Jackson Galaxy's Cats (and dog)          https://i.ytimg.com/vi/gYoRNwIMAV8/hqdefault.j...   \n",
       "The Story of Mojo The Cat                     https://i.ytimg.com/vi/BjmqAazOdow/hqdefault.j...   \n",
       "How To Make Your Cat Not Afraid of Strangers  https://i.ytimg.com/vi/ihPERHMKQeg/hqdefault.j...   \n",
       "The Politics of Litter                        https://i.ytimg.com/vi/34cHfvYOYS0/hqdefault.j...   \n",
       "\n",
       "                                                 id  \n",
       "What's Your Cat's Story?                      382.0  \n",
       "Meet Jackson Galaxy's Cats (and dog)          383.0  \n",
       "The Story of Mojo The Cat                     384.0  \n",
       "How To Make Your Cat Not Afraid of Strangers  385.0  \n",
       "The Politics of Litter                        386.0  "
      ]
     },
     "execution_count": 4,
     "metadata": {},
     "output_type": "execute_result"
    }
   ],
   "source": [
    "print(len(stor_metadata))\n",
    "\n",
    "# Download, transcribe, and embed in batches to avoid connection errors\n",
    "batch_size = 10\n",
    "num_batches = math.ceil(len(stor_metadata) / batch_size)\n",
    "\n",
    "batch_number = 39  # manually updated\n",
    "# batch 13, numbers 120-130 skipped\n",
    "\n",
    "# Set chunks to add\n",
    "start_idx = (batch_number-1) * batch_size\n",
    "end_idx = min(start_idx + batch_size, len(stor_metadata))\n",
    "    \n",
    "# Extract the current chunks\n",
    "current_batch = stor_metadata[start_idx:end_idx]\n",
    "print(start_idx)\n",
    "print(end_idx)\n",
    "stor_metadata[start_idx:end_idx]"
   ]
  },
  {
   "cell_type": "code",
   "execution_count": 5,
   "id": "3580cfbe",
   "metadata": {},
   "outputs": [
    {
     "name": "stdout",
     "output_type": "stream",
     "text": [
      "[youtube:tab] Extracting URL: https://www.youtube.com/watch?v=iMSQg8eEXHw&list=UUheL-cUqfzUB8dfM_rFOfDQ&index=760&pp=iAQB\n",
      "[youtube:tab] Downloading just the video iMSQg8eEXHw because of --no-playlist\n",
      "[youtube] Extracting URL: https://www.youtube.com/watch?v=iMSQg8eEXHw\n",
      "[youtube] iMSQg8eEXHw: Downloading webpage\n",
      "[youtube] iMSQg8eEXHw: Downloading ios player API JSON\n",
      "[youtube] iMSQg8eEXHw: Downloading android player API JSON\n",
      "[youtube] iMSQg8eEXHw: Downloading m3u8 information\n",
      "[info] iMSQg8eEXHw: Downloading 1 format(s): 140\n",
      "[download] Destination: ../Downloads/JacksonGalaxy_39/What's Your Cat's Story？.m4a\n",
      "[download] 100% of    2.99MiB in 00:00:00 at 8.15MiB/s   \n",
      "[FixupM4a] Correcting container of \"../Downloads/JacksonGalaxy_39/What's Your Cat's Story？.m4a\"\n",
      "[ExtractAudio] Not converting audio ../Downloads/JacksonGalaxy_39/What's Your Cat's Story？.m4a; file is already in target format m4a\n",
      "[youtube:tab] Extracting URL: https://www.youtube.com/watch?v=gYoRNwIMAV8&list=UUheL-cUqfzUB8dfM_rFOfDQ&index=762&pp=iAQB\n",
      "[youtube:tab] Downloading just the video gYoRNwIMAV8 because of --no-playlist\n",
      "[youtube] Extracting URL: https://www.youtube.com/watch?v=gYoRNwIMAV8\n",
      "[youtube] gYoRNwIMAV8: Downloading webpage\n",
      "[youtube] gYoRNwIMAV8: Downloading ios player API JSON\n",
      "[youtube] gYoRNwIMAV8: Downloading android player API JSON\n",
      "[youtube] gYoRNwIMAV8: Downloading m3u8 information\n",
      "[info] gYoRNwIMAV8: Downloading 1 format(s): 140\n",
      "[download] Destination: ../Downloads/JacksonGalaxy_39/Meet Jackson Galaxy's Cats (and dog).m4a\n",
      "[download] 100% of    1.48MiB in 00:00:00 at 3.71MiB/s   \n",
      "[FixupM4a] Correcting container of \"../Downloads/JacksonGalaxy_39/Meet Jackson Galaxy's Cats (and dog).m4a\"\n",
      "[ExtractAudio] Not converting audio ../Downloads/JacksonGalaxy_39/Meet Jackson Galaxy's Cats (and dog).m4a; file is already in target format m4a\n",
      "[youtube:tab] Extracting URL: https://www.youtube.com/watch?v=BjmqAazOdow&list=UUheL-cUqfzUB8dfM_rFOfDQ&index=763&pp=iAQB\n",
      "[youtube:tab] Downloading just the video BjmqAazOdow because of --no-playlist\n",
      "[youtube] Extracting URL: https://www.youtube.com/watch?v=BjmqAazOdow\n",
      "[youtube] BjmqAazOdow: Downloading webpage\n",
      "[youtube] BjmqAazOdow: Downloading ios player API JSON\n",
      "[youtube] BjmqAazOdow: Downloading android player API JSON\n",
      "[youtube] BjmqAazOdow: Downloading m3u8 information\n",
      "[info] BjmqAazOdow: Downloading 1 format(s): 140\n",
      "[download] Destination: ../Downloads/JacksonGalaxy_39/The Story of Mojo The Cat.m4a\n",
      "[download] 100% of    1.68MiB in 00:00:00 at 3.53MiB/s   \n",
      "[FixupM4a] Correcting container of \"../Downloads/JacksonGalaxy_39/The Story of Mojo The Cat.m4a\"\n",
      "[ExtractAudio] Not converting audio ../Downloads/JacksonGalaxy_39/The Story of Mojo The Cat.m4a; file is already in target format m4a\n",
      "[youtube:tab] Extracting URL: https://www.youtube.com/watch?v=ihPERHMKQeg&list=UUheL-cUqfzUB8dfM_rFOfDQ&index=764&pp=iAQB\n",
      "[youtube:tab] Downloading just the video ihPERHMKQeg because of --no-playlist\n",
      "[youtube] Extracting URL: https://www.youtube.com/watch?v=ihPERHMKQeg\n",
      "[youtube] ihPERHMKQeg: Downloading webpage\n",
      "[youtube] ihPERHMKQeg: Downloading ios player API JSON\n",
      "[youtube] ihPERHMKQeg: Downloading android player API JSON\n",
      "[youtube] ihPERHMKQeg: Downloading m3u8 information\n",
      "[info] ihPERHMKQeg: Downloading 1 format(s): 140\n",
      "[download] Destination: ../Downloads/JacksonGalaxy_39/How To Make Your Cat Not Afraid of Strangers.m4a\n",
      "[download] 100% of    2.22MiB in 00:00:00 at 7.61MiB/s   \n",
      "[FixupM4a] Correcting container of \"../Downloads/JacksonGalaxy_39/How To Make Your Cat Not Afraid of Strangers.m4a\"\n",
      "[ExtractAudio] Not converting audio ../Downloads/JacksonGalaxy_39/How To Make Your Cat Not Afraid of Strangers.m4a; file is already in target format m4a\n",
      "[youtube:tab] Extracting URL: https://www.youtube.com/watch?v=34cHfvYOYS0&list=UUheL-cUqfzUB8dfM_rFOfDQ&index=765&pp=iAQB\n",
      "[youtube:tab] Downloading just the video 34cHfvYOYS0 because of --no-playlist\n",
      "[youtube] Extracting URL: https://www.youtube.com/watch?v=34cHfvYOYS0\n",
      "[youtube] 34cHfvYOYS0: Downloading webpage\n",
      "[youtube] 34cHfvYOYS0: Downloading ios player API JSON\n",
      "[youtube] 34cHfvYOYS0: Downloading android player API JSON\n",
      "[youtube] 34cHfvYOYS0: Downloading m3u8 information\n",
      "[info] 34cHfvYOYS0: Downloading 1 format(s): 140\n",
      "[download] Destination: ../Downloads/JacksonGalaxy_39/The Politics of Litter.m4a\n",
      "[download] 100% of    6.25MiB in 00:00:00 at 17.37MiB/s  \n",
      "[FixupM4a] Correcting container of \"../Downloads/JacksonGalaxy_39/The Politics of Litter.m4a\"\n",
      "[ExtractAudio] Not converting audio ../Downloads/JacksonGalaxy_39/The Politics of Litter.m4a; file is already in target format m4a\n",
      "Transcribing part 1!\n",
      "Transcribing part 1!\n",
      "Transcribing part 1!\n",
      "Transcribing part 1!\n",
      "Transcribing part 1!\n"
     ]
    }
   ],
   "source": [
    "urls=list(current_batch.link)\n",
    "save_dir = \"../Downloads/JacksonGalaxy_\" + str(batch_number)\n",
    "openai.api_key = os.environ[\"OPENAI_API_KEY\"]\n",
    "loader = GenericLoader(YoutubeAudioLoader(urls,save_dir),OpenAIWhisperParser())\n",
    "docs = loader.load()"
   ]
  },
  {
   "cell_type": "code",
   "execution_count": 6,
   "id": "99f38b68",
   "metadata": {},
   "outputs": [],
   "source": [
    "# Consolidate text per episode\n",
    "concatenated_text_by_source = {}\n",
    "for doc in docs:\n",
    "    source = doc.metadata['source']\n",
    "    page_content = doc.page_content\n",
    "    if source in concatenated_text_by_source:\n",
    "        concatenated_text_by_source[source] += ' ' + page_content\n",
    "    else:\n",
    "        concatenated_text_by_source[source] = page_content"
   ]
  },
  {
   "cell_type": "code",
   "execution_count": 7,
   "id": "70f37385",
   "metadata": {},
   "outputs": [
    {
     "name": "stdout",
     "output_type": "stream",
     "text": [
      "Meet Jackson Galaxy's Cats (and dog)\n",
      "[\"Meet Jackson Galaxy's Cats (and dog)\", \"Jackson Galaxy's Star Search!\"]\n",
      "Meet Jackson Galaxy's Cats (and dog)\n",
      " \n",
      "The Story of Mojo The Cat\n",
      "['The Story of Mojo The Cat']\n",
      "The Story of Mojo The Cat\n",
      " \n",
      "What's Your Cat's Story？\n",
      "[\"What's Your Cat's Story?\"]\n",
      "What's Your Cat's Story?\n",
      " \n",
      "The Politics of Litter\n",
      "['The Politics of Litter']\n",
      "The Politics of Litter\n",
      " \n",
      "How To Make Your Cat Not Afraid of Strangers\n",
      "['How To Make Your Cat Not Afraid of Strangers', 'My Cat is Afraid of Strangers', 'How To Get Your Cat Into a Pet Carrier']\n",
      "How To Make Your Cat Not Afraid of Strangers\n",
      " \n"
     ]
    }
   ],
   "source": [
    "# Split each video and add metadata we'll use in UI\n",
    "splits=[]\n",
    "metadatas=[]\n",
    "\n",
    "# Split parameters\n",
    "text_splitter = RecursiveCharacterTextSplitter(chunk_size = 1500, chunk_overlap = 150)\n",
    "\n",
    "# Build splits\n",
    "for k in concatenated_text_by_source.keys():\n",
    "    \n",
    "    # Get downloaded title\n",
    "    directory, filename = os.path.split(k)\n",
    "    video_name = filename.split(\".m4a\")[0]    \n",
    "    \n",
    "    # Make splits\n",
    "    episode_text = concatenated_text_by_source[k]\n",
    "    episode_splits = text_splitter.split_text(episode_text)\n",
    "    splits.append(episode_splits)\n",
    "    \n",
    "    # finding closest name instead of exact match to circumvent special character issues\n",
    "    closest_name = difflib.get_close_matches(video_name, list(stor_metadata['title']))\n",
    "    video_name_corrected = closest_name[0]\n",
    "    print(video_name)\n",
    "    print(closest_name)\n",
    "    print(video_name_corrected)\n",
    "\n",
    "    \n",
    "    # With title, we can fetch associated metadata we wrote earlier to stor_metadata\n",
    "    episode_number = str(stor_metadata.loc[video_name_corrected,\"id\"])\n",
    "    episode_link = stor_metadata.loc[video_name_corrected,\"link\"] \n",
    "    img_url = stor_metadata.loc[video_name_corrected,\"img\"] \n",
    "    \n",
    "    # Save the video thumbnail for later use the UI\n",
    "    with open(\"../nextjs/public/%s.jpg\"%str(episode_number), 'wb') as f:\n",
    "        response = requests.get(img_url)\n",
    "        f.write(response.content)\n",
    "        #print(f)\n",
    "        print(\" \")\n",
    "    \n",
    "    # Save metadata\n",
    "    episode_metadatas=[{\"source\":video_name + \" \" +episode_number,\"id\":episode_number,\"link\":episode_link,\"title\":video_name} for s in episode_splits]\n",
    "    metadatas.append(episode_metadatas)"
   ]
  },
  {
   "cell_type": "code",
   "execution_count": 8,
   "id": "078ef450",
   "metadata": {},
   "outputs": [],
   "source": [
    "# Join the list of lists \n",
    "splits_all = []\n",
    "for sublist in splits:\n",
    "    splits_all.extend(sublist)\n",
    "metadatas_all = []\n",
    "for sublist in metadatas:\n",
    "    metadatas_all.extend(sublist)"
   ]
  },
  {
   "cell_type": "code",
   "execution_count": 9,
   "id": "5fda4dcc",
   "metadata": {},
   "outputs": [],
   "source": [
    "pinecone.init(api_key=os.environ.get('PINECONE_API_KEY'), environment=\"us-west4-gcp-free\")\n",
    "\n",
    "index_name = \"cat-gpt\"\n",
    "embeddings = OpenAIEmbeddings()\n",
    "p = Pinecone.from_existing_index(index_name=index_name,embedding=embeddings)\n",
    "\n",
    "#if batch_number == 2: \n",
    "    #p.delete(delete_all=True)"
   ]
  },
  {
   "cell_type": "code",
   "execution_count": 10,
   "id": "d01b8562",
   "metadata": {},
   "outputs": [
    {
     "data": {
      "application/vnd.jupyter.widget-view+json": {
       "model_id": "91af6001689a49f8bb1ad0a2a9dbd06e",
       "version_major": 2,
       "version_minor": 0
      },
      "text/plain": [
       "Upserted vectors:   0%|          | 0/12 [00:00<?, ?it/s]"
      ]
     },
     "metadata": {},
     "output_type": "display_data"
    }
   ],
   "source": [
    "# Add data in chunk to avoid data ingest errors\n",
    "chunk_size = 100\n",
    "last_chunk = 0\n",
    "num_chunks = math.ceil(len(splits_all) / chunk_size)\n",
    "\n",
    "for i in range(last_chunk, num_chunks):\n",
    "    # Set chunks to add\n",
    "    start_idx = i * chunk_size\n",
    "    end_idx = min(start_idx + chunk_size, len(splits_all))\n",
    "    \n",
    "    # Extract the current chunks\n",
    "    current_splits = splits_all[start_idx:end_idx]\n",
    "    current_metadatas = metadatas_all[start_idx:end_idx]\n",
    "    \n",
    "    # Add the current chunk to the vector database\n",
    "    p.add_texts(texts = current_splits, metadatas=current_metadatas)"
   ]
  },
  {
   "cell_type": "code",
   "execution_count": 11,
   "id": "f79b8a6d",
   "metadata": {},
   "outputs": [
    {
     "name": "stdout",
     "output_type": "stream",
     "text": [
      "done\n"
     ]
    }
   ],
   "source": [
    "print('done')"
   ]
  }
 ],
 "metadata": {
  "kernelspec": {
   "display_name": "Python 3 (ipykernel)",
   "language": "python",
   "name": "python3"
  },
  "language_info": {
   "codemirror_mode": {
    "name": "ipython",
    "version": 3
   },
   "file_extension": ".py",
   "mimetype": "text/x-python",
   "name": "python",
   "nbconvert_exporter": "python",
   "pygments_lexer": "ipython3",
   "version": "3.11.4"
  }
 },
 "nbformat": 4,
 "nbformat_minor": 5
}
